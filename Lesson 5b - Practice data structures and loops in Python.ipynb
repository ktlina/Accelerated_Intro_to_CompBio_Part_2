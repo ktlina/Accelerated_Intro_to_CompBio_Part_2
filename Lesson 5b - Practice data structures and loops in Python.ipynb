{
 "cells": [
  {
   "cell_type": "markdown",
   "metadata": {},
   "source": [
    "# Practice data structures\n",
    "\n",
    "We will create a data structure to hold our Germplasm data (I have updated it to be a little bit more complex... now a germplasm may hold TWO alleles - i.e. one germplasm has connections to more than one gene)\n",
    "\n",
    "Represent these data in Python - create a **single variable** that contains all of this data (using lists and dictionaries).\n",
    "\n",
    "Create loops over that data structure that can print the three tables to the screen.\n",
    "\n",
    "\n",
    "\n"
   ]
  },
  {
   "cell_type": "markdown",
   "metadata": {},
   "source": [
    "\n",
    "\n",
    "<center>stock table</center>\n",
    "\n",
    "germplasm_id |  amount  |  date  |  location  \n",
    " --- | --- | --- | --- \n",
    " 2 |  5  | 10/5/2013 |  Room 2234  \n",
    " 1 | 9.8  | 12/1/2015 |  Room 998  \n",
    "\n",
    "\n",
    "-----------------------------\n",
    "\n",
    "\n",
    "<center>germplasm table</center>\n",
    "\n",
    "id |  taxonid  |  alleles | genes \n",
    " --- |--- | --- | ---\n",
    " 1 |  4150  | def-1 | DEF\n",
    " 2 | 3701  | ap3,  ag | AP3, AG\n",
    "  \n",
    "--------------------------------\n",
    "\n",
    "<center>gene table</center>\n",
    "\n",
    "  gene  |  gene_name  |  embl\n",
    " --- | ---  | --- \n",
    "  DEF  | Deficiens  | https://www.ebi.ac.uk/ena/data/view/AB516402\n",
    "  AP3  | Apetala3   |   https://www.ebi.ac.uk/ena/data/view/AF056541\n",
    "  AG  | Agamous   |   https://www.ebi.ac.uk/ena/data/view/AL161549\n",
    "  "
   ]
  },
  {
   "cell_type": "code",
   "execution_count": 15,
   "metadata": {},
   "outputs": [
    {
     "name": "stdout",
     "output_type": "stream",
     "text": [
      "[[{'germplasm_id': 2, 'amount': 5, 'date': '10/05/2013', 'location': 'Room 2234'}, {'germplasm_id': 1, 'amount': 9.8, 'date': '12/01/2015', 'location': 'Room 998'}], [{'id': 1, 'taxonid': 4150, 'alleles': 'def-1', 'genes': 'DEF'}, {'id': 2, 'taxonid': 3701, 'alleles': ['ap3', 'ag'], 'genes': ['AP3', 'AG']}], [{'gene': 'DEF', 'gene_name': 'Deficiens', 'embl': 'https://www.ebi.ac.uk/ena/data/view/AB516402'}, {'gene': 'AP3', 'gene_name': 'Aapetala3', 'embl': 'https://www.ebi.ac.uk/ena/data/view/AF056541'}, {'gene': 'AG', 'gene_name': 'Agamous', 'embl': 'https://www.ebi.ac.uk/ena/data/view/AL161549'}]]\n"
     ]
    }
   ],
   "source": [
    "stocks = []\n",
    "stock = {\"germplasm_id\":2, \"amount\":5, \"date\": \"10/05/2013\", \"location\": \"Room 2234\"}\n",
    "stocks.append(stock)\n",
    "stock = {\"germplasm_id\":1, \"amount\":9.8, \"date\": \"12/01/2015\", \"location\": \"Room 998\"}\n",
    "stocks.append(stock)\n",
    "#print(stocks)\n",
    "\n",
    "germplasms = []\n",
    "germplasm = {\"id\": 1, \"taxonid\": 4150, \"alleles\": \"def-1\", \"genes\": \"DEF\"}\n",
    "germplasms.append(germplasm)\n",
    "alleles2 = [\"ap3\",\"ag\"]\n",
    "genes2 = [\"AP3\", \"AG\"]\n",
    "germplasm = {\"id\": 2, \"taxonid\": 3701, \"alleles\": alleles2, \"genes\": genes2}\n",
    "germplasms.append(germplasm)\n",
    "#print(germplasms)\n",
    "\n",
    "genes = []\n",
    "gene = {\"gene\": \"DEF\", \"gene_name\": \"Deficiens\", \"embl\":\"https://www.ebi.ac.uk/ena/data/view/AB516402\"}\n",
    "genes.append(gene)\n",
    "gene = {\"gene\": \"AP3\", \"gene_name\": \"Aapetala3\", \"embl\":\"https://www.ebi.ac.uk/ena/data/view/AF056541\"}\n",
    "genes.append(gene)\n",
    "gene = {\"gene\": \"AG\", \"gene_name\": \"Agamous\", \"embl\":\"https://www.ebi.ac.uk/ena/data/view/AL161549\"}\n",
    "genes.append(gene)\n",
    "#print(genes)\n",
    "\n",
    "all = [stocks, germplasms, genes]\n",
    "print(all)"
   ]
  },
  {
   "cell_type": "code",
   "execution_count": 29,
   "metadata": {},
   "outputs": [
    {
     "name": "stdout",
     "output_type": "stream",
     "text": [
      "dict_keys(['DEF', 'AP3', 'AG'])\n",
      "{1: {'germplasm_id': {'id': 2, 'taxonid': 3701, 'alleles': ['ap3', 'ag'], 'genes': [{'gene': 'AP3', 'gene_name': 'Aapetala3', 'embl': 'https://www.ebi.ac.uk/ena/data/view/AF056541'}, {'gene': 'AG', 'gene_name': 'Agamous', 'embl': 'https://www.ebi.ac.uk/ena/data/view/AL161549'}]}, 'amount': 5, 'date': '10/05/2013', 'location': 'Room 2234'}, 2: {'germplasm_id': {'id': 1, 'taxonid': 4150, 'alleles': 'def-1', 'genes': [{'gene': 'DEF', 'gene_name': 'Deficiens', 'embl': 'https://www.ebi.ac.uk/ena/data/view/AB516402'}]}, 'amount': 9.8, 'date': '12/01/2015', 'location': 'Room 998'}}\n"
     ]
    }
   ],
   "source": [
    "#puedes hacer tamibén que las posiciones tengan sentido de forma que\n",
    "genes = {}\n",
    "gene1 = {\"gene\": \"DEF\", \"gene_name\": \"Deficiens\", \"embl\":\"https://www.ebi.ac.uk/ena/data/view/AB516402\"}\n",
    "genes[\"DEF\"]=gene1\n",
    "gene2 = {\"gene\": \"AP3\", \"gene_name\": \"Aapetala3\", \"embl\":\"https://www.ebi.ac.uk/ena/data/view/AF056541\"}\n",
    "genes[\"AP3\"]=gene2\n",
    "gene3 = {\"gene\": \"AG\", \"gene_name\": \"Agamous\", \"embl\":\"https://www.ebi.ac.uk/ena/data/view/AL161549\"}\n",
    "genes[\"AG\"]=gene3\n",
    "print(genes.keys())\n",
    "\n",
    "germplasms = {}\n",
    "germplasm = {\"id\": 1, \"taxonid\": 4150, \"alleles\": \"def-1\", \"genes\": [genes[\"DEF\"]]}\n",
    "germplasms[1]=germplasm\n",
    "germplasm = {\"id\": 2, \"taxonid\": 3701, \"alleles\": alleles2, \"genes\": [genes[\"AP3\"], genes[\"AG\"]]}\n",
    "germplasms[2]=germplasm\n",
    "\n",
    "stocks = {}\n",
    "stock = {\"germplasm_id\": germplasms[2], \"amount\":5, \"date\": \"10/05/2013\", \"location\": \"Room 2234\"}\n",
    "stocks[1]=stock\n",
    "stock = {\"germplasm_id\": germplasms[1], \"amount\":9.8, \"date\": \"12/01/2015\", \"location\": \"Room 998\"}\n",
    "stocks[2]=stock\n",
    "\n",
    "print(stocks)\n"
   ]
  },
  {
   "cell_type": "markdown",
   "metadata": {},
   "source": [
    "SIMPLE ANSWER (hidden below)"
   ]
  },
  {
   "cell_type": "markdown",
   "metadata": {},
   "source": [
    "More complex..."
   ]
  },
  {
   "cell_type": "markdown",
   "metadata": {},
   "source": [
    "Optimal"
   ]
  },
  {
   "cell_type": "markdown",
   "metadata": {},
   "source": [
    "simple\n",
    "\n",
    "<span style=\"visibility:hidden;\">\n",
    "# put your code here... take it one step at a time!\n",
    "# do just one table\n",
    "genes = []\n",
    "gene = {\"gene\": \"DEF\", \"gene_name\": \"Deficiens\", \"embl\": \"https://www.ebi.ac.uk/ena/data/view/AB516402\"}\n",
    "genes.append(gene)\n",
    "gene = {\"gene\": \"AP3\", \"gene_name\": \"Apetala3\", \"embl\": \"https://www.ebi.ac.uk/ena/data/view/AF056541\"}\n",
    "genes.append(gene)\n",
    "gene = {\"gene\": \"AG\", \"gene_name\": \"Agamous\", \"embl\": \"https://www.ebi.ac.uk/ena/data/view/AL161549\"}\n",
    "genes.append(gene)\n",
    "\n",
    "print(genes)\n",
    "\n",
    "germplasms = []\n",
    "germplasm = {\"id\": 1, \"taxonid\": 4150, \"alleles\": [\"def-1\"], \"genes\": [\"DEF\"]}\n",
    "germplasms.append(germplasm)\n",
    "germplasm = {\"id\": 2, \"taxonid\": 3710, \"alleles\": [\"ap3\", \"ag\"], \"genes\": [\"AP3\", \"AG\"]}\n",
    "germplasms.append(germplasm)\n",
    "\n",
    "print(germplasms)\n",
    "\n",
    "\n",
    "stocks = []\n",
    "stock = {\"germplasm\": 2, \"amount\": 5, \"date\": \"10/5/2013\", \"location\": \"Room 2234\"}\n",
    "stocks.append(stock)\n",
    "stock = {\"germplasm\": 1, \"amount\": 9.8, \"date\": \"12/1/2015\", \"location\": \"Room 998\"}\n",
    "stocks.append(stock)\n",
    "\n",
    "print(stocks)\n",
    "\n",
    "</span>"
   ]
  },
  {
   "cell_type": "markdown",
   "metadata": {},
   "source": [
    "more complex\n",
    "\n",
    "<span style=\"visibility:hidden;\">\n",
    "    \n",
    "    # put your code here... take it one step at a time!\n",
    "# do just one table\n",
    "genes = {}\n",
    "gene = {\"gene\": \"DEF\", \"gene_name\": \"Deficiens\", \"embl\": \"https://www.ebi.ac.uk/ena/data/view/AB516402\"}\n",
    "genes[\"DEF\"] = gene\n",
    "gene = {\"gene\": \"AP3\", \"gene_name\": \"Apetala3\", \"embl\": \"https://www.ebi.ac.uk/ena/data/view/AF056541\"}\n",
    "genes[\"AP3\"] = gene\n",
    "gene = {\"gene\": \"AG\", \"gene_name\": \"Agamous\", \"embl\": \"https://www.ebi.ac.uk/ena/data/view/AL161549\"}\n",
    "genes[\"AG\"] = gene\n",
    "\n",
    "print(genes)\n",
    "\n",
    "\n",
    "germplasms = {}\n",
    "germplasm = {\"id\": 1, \"taxonid\": 4150, \"alleles\": [\"def-1\"], \"genes\": [\"DEF\"]}\n",
    "germplasms[1] = germplasm\n",
    "germplasm = {\"id\": 2, \"taxonid\": 3710, \"alleles\": [\"ap3\", \"ag\"], \"genes\": [\"AP3\", \"AG\"]}\n",
    "germplasms[2] = germplasm\n",
    "\n",
    "print(germplasms)\n",
    "\n",
    "\n",
    "stocks = {}\n",
    "stock = {\"germplasm\": 2, \"amount\": 5, \"date\": \"10/5/2013\", \"location\": \"Room 2234\"}\n",
    "stocks[1] = stock\n",
    "stock = {\"germplasm\": 1, \"amount\": 9.8, \"date\": \"12/1/2015\", \"location\": \"Room 998\"}\n",
    "stocks[2] = stock\n",
    "\n",
    "print(stocks)\n",
    "\n",
    "print(genes[\"DEF\"][\"embl\"])\n",
    "\n",
    "<span>"
   ]
  },
  {
   "cell_type": "code",
   "execution_count": 27,
   "metadata": {},
   "outputs": [
    {
     "name": "stdout",
     "output_type": "stream",
     "text": [
      "dict_keys([1, 2])\n",
      "dict_keys([1, 2])\n",
      "location:  Room 2234\n",
      "germplasm taxon:  3710\n",
      "germplasm taxon:  https://www.ebi.ac.uk/ena/data/view/AF056541\n",
      "location:  Room 998\n",
      "germplasm taxon:  4150\n",
      "germplasm taxon:  https://www.ebi.ac.uk/ena/data/view/AB516402\n",
      "\n",
      "\n",
      "reaching into the objects...\n",
      "\n",
      "\n",
      "location:  Room 2234\n",
      "germplasm taxon:  3710\n",
      "Gene Name:  Apetala3  with embl url:  https://www.ebi.ac.uk/ena/data/view/AF056541\n",
      "Gene Name:  Agamous  with embl url:  https://www.ebi.ac.uk/ena/data/view/AL161549\n",
      "location:  Room 998\n",
      "germplasm taxon:  4150\n",
      "Gene Name:  Deficiens  with embl url:  https://www.ebi.ac.uk/ena/data/view/AB516402\n"
     ]
    }
   ],
   "source": [
    "\n",
    "\n",
    "\n",
    "# put your code here... take it one step at a time!\n",
    "# do just one table\n",
    "\n",
    "genes = {}\n",
    "gene = {\"gene\": \"DEF\", \"gene_name\": \"Deficiens\", \"embl\": \"https://www.ebi.ac.uk/ena/data/view/AB516402\"}\n",
    "genes[\"DEF\"] = gene\n",
    "gene = {\"gene\": \"AP3\", \"gene_name\": \"Apetala3\", \"embl\": \"https://www.ebi.ac.uk/ena/data/view/AF056541\"}\n",
    "genes[\"AP3\"] = gene\n",
    "gene = {\"gene\": \"AG\", \"gene_name\": \"Agamous\", \"embl\": \"https://www.ebi.ac.uk/ena/data/view/AL161549\"}\n",
    "genes[\"AG\"] = gene\n",
    "\n",
    "#print(genes)\n",
    "\n",
    "germplasms = {}\n",
    "germplasm = {\"id\": 1, \"taxonid\": 4150, \"alleles\": [\"def-1\"], \"genes\": [genes[\"DEF\"]]}\n",
    "germplasms[1] = germplasm\n",
    "germplasm = {\"id\": 2, \"taxonid\": 3710, \"alleles\": [\"ap3\", \"ag\"], \"genes\": [genes[\"AP3\"], genes[\"AG\"]]}\n",
    "germplasms[2] = germplasm\n",
    "\n",
    "print(germplasms.keys())\n",
    "\n",
    "stocks = {}\n",
    "stock = {\"germplasm\": germplasms[2], \"amount\": 5, \"date\": \"10/5/2013\", \"location\": \"Room 2234\"}\n",
    "stocks[1] = stock\n",
    "stock = {\"germplasm\": germplasms[1], \"amount\": 9.8, \"date\": \"12/1/2015\", \"location\": \"Room 998\"}\n",
    "stocks[2] = stock\n",
    "\n",
    "print(stocks.keys())\n",
    "\n",
    "for s in stocks.keys():\n",
    "    print(\"location: \", stocks[s][\"location\"])\n",
    "    print(\"germplasm taxon: \",  stocks[s][\"germplasm\"][\"taxonid\"])\n",
    "    print(\"germplasm taxon: \",  stocks[s][\"germplasm\"][\"genes\"][0][\"embl\"])\n",
    "    \n",
    "print(\"\\n\\nreaching into the objects...\\n\\n\")\n",
    "for s in stocks.keys():\n",
    "    print(\"location: \", stocks[s][\"location\"])\n",
    "    print(\"germplasm taxon: \",  stocks[s][\"germplasm\"][\"taxonid\"])\n",
    "    for gene in stocks[s][\"germplasm\"][\"genes\"]:\n",
    "        print(\"Gene Name: \", gene[\"gene_name\"], \" with embl url: \", gene[\"embl\"])\n"
   ]
  },
  {
   "cell_type": "markdown",
   "metadata": {},
   "source": [
    "<span style=\"visibility:hidden;\">\n",
    "DEF = {'id': 'DEF', 'name': 'Deficiens', 'embl': 'http://AB123434'}\n",
    "AP3 = {'id': 'AP3', 'name': 'Apetala3', 'embl': 'http://AB123434'}\n",
    "AG = {'id': 'AG', 'name': 'Agamous', 'embl': 'http://AB123434'}\n",
    "gp1 = {'id': 1, 'taxon': 4150, 'alleles': ['def1'], 'genes': [DEF]}\n",
    "gp2 = {'id': 2, 'taxon': 4150, 'alleles': ['ap3', 'ag'], 'genes': [AP3, AG]}\n",
    "stock1 = {'germplasm': gp2, 'amount': 5, 'date': '10/5/2013', 'location': 'Room 2234' }\n",
    "stock2 = {'germplasm': gp1, 'amount': 9.8, 'date': '12/1/2015', 'location': 'Room 998' }\n",
    "database = [stock1, stock2]\n",
    "for stock in database:\n",
    "    print(stock['germplasm']['id'], \", \", stock['amount'],\",\",stock['date'],\",\",stock['location'])\n",
    "</span>"
   ]
  }
 ],
 "metadata": {
  "kernelspec": {
   "display_name": "Python 3",
   "language": "python",
   "name": "python3"
  },
  "language_info": {
   "codemirror_mode": {
    "name": "ipython",
    "version": 3
   },
   "file_extension": ".py",
   "mimetype": "text/x-python",
   "name": "python",
   "nbconvert_exporter": "python",
   "pygments_lexer": "ipython3",
   "version": "3.7.3"
  }
 },
 "nbformat": 4,
 "nbformat_minor": 2
}
